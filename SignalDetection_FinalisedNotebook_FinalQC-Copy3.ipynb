{
 "cells": [
  {
   "cell_type": "markdown",
   "id": "e13a031d",
   "metadata": {},
   "source": [
    "# Notebook for analysing data to find potential signals within\n",
    "# \n",
    "\n",
    "### How does this script work?\n",
    "First saved data in .txt form is loaded in and the dataset is extracted. The dataset is then ran through a pipeline looking for potential signals within the data and finally Dataframes are created with the characteristics of the full dataset and any signals within\n",
    "# \n",
    "### How does the pipeline work?\n",
    "The data is first analysed my a machine learning model. This model is un-supervised and is looking for regions in the data where there is high volatility, indicating a potential region of interest where a signal may be.\n",
    "\n",
    "The predictions made by the model are then looked at and any regions of interest are saved and looked into with more detail. This invloves using a cross correlation function to determine if the signal has the characteristic curve, if the extracted signal is extremely long then the cross correlation function is used to see if there is a signal within the region of interest. If the cross correlation functions show a signal is present then they are analysed looking at the length, number of peaks and height of the peaks as well as the depth of the dip. If the cross correlation function shows no signal is present then the region of interest is discarded."
   ]
  },
  {
   "cell_type": "code",
   "execution_count": null,
   "id": "d8f1071d",
   "metadata": {},
   "outputs": [],
   "source": [
    "import MLDetectionFunctionsPythonV9_5_NoRestricts_MLcreate as EEGanalysis\n",
    "import pandas as pd\n",
    "import matplotlib.pyplot as plt\n",
    "import ipywidgets as widgets\n",
    "from ipywidgets import interact, interactive, Output, fixed, interact_manual\n",
    "from IPython.display import display, clear_output\n",
    "import numpy as np\n",
    "import math\n",
    "import mat73\n",
    "import pickle"
   ]
  },
  {
   "cell_type": "code",
   "execution_count": null,
   "id": "aefe025b",
   "metadata": {},
   "outputs": [],
   "source": [
    "#I think need to add some length to end of extraction so can be cropped down\n",
    "\n",
    "\n",
    "\n",
    "\n",
    "\n",
    "#AMAZING IDEA\n",
    "\n",
    "#What if I saved all individual areas of interest extracted by the model\n",
    "#this includes seizure events and non-seizure events\n",
    "#use this to train a model that can classify each extracted area of interest\n",
    "\n",
    "#save both raw and smoothed AoI and see which has better results\n",
    "\n",
    "\n",
    "\n",
    "#Try first - just key infor in dataframe to train with\n",
    "\n",
    "#using the extracted dataframe at the end of the code use this with either 'Signal' or 'Noise'\n",
    "#to train a model which can then be used to classify extracted AoI instead of full signals\n",
    "\n",
    "#trim down dataframe so doesnt include confusing info eg start and end times\n",
    "#intead just have signal length\n",
    "\n",
    "#include cross-corr score as well in dataframe\n",
    "#think of other things to input into the dataframe\n",
    "\n",
    "#maybe use rounded signal length (in seconds) as well as rounded dip depth, medium peak height\n",
    "\n",
    "#look at peak density throughout signal\n",
    "#rolling average over 10secs and pick median, mean or peak value?\n",
    "\n",
    "\n",
    "\n",
    "\n",
    "\n",
    "#this looks to be a very good idea\n",
    "\n",
    "\n",
    "#TO CHANGE\n",
    "#If subsignal found i.e. 12.1, 12.2 (from 12.0) then need to delete the 12.0 signal"
   ]
  },
  {
   "cell_type": "markdown",
   "id": "b1566f48",
   "metadata": {},
   "source": [
    "# Importing data to analyse\n",
    "\n",
    "### Each dataset should be saved as a .txt file"
   ]
  },
  {
   "cell_type": "markdown",
   "id": "6e7a9dad",
   "metadata": {},
   "source": [
    "# Choosing which dataset to analyse"
   ]
  },
  {
   "cell_type": "code",
   "execution_count": null,
   "id": "94f24dc5",
   "metadata": {},
   "outputs": [],
   "source": [
    "datasetusing = datamay36\n",
    "\n",
    "#check 5, boarderline on signal/noise (especially 3rd signal)\n",
    "\n",
    "#8 is good for testing with 'clean' dataset that works v well with original 9_5 version\n",
    "\n",
    "#11 has detection issues\n",
    "#14 is cool as works well\n",
    "#15 cool too\n",
    "#16 is v good\n",
    "#17 detection issues due to dip depth too small and thus removing signal\n"
   ]
  },
  {
   "cell_type": "code",
   "execution_count": null,
   "id": "1904ae0b",
   "metadata": {},
   "outputs": [],
   "source": [
    "realdatausing = EEGanalysis.getdata(datasetusing)\n",
    "realdatausing"
   ]
  },
  {
   "cell_type": "code",
   "execution_count": null,
   "id": "69528414",
   "metadata": {},
   "outputs": [],
   "source": []
  },
  {
   "cell_type": "code",
   "execution_count": null,
   "id": "ffea7c14",
   "metadata": {},
   "outputs": [],
   "source": [
    "for i in range(4):\n",
    "    print(i*(0.25*len(realdatausing)))\n",
    "    print(int(i*(0.25*len(realdatausing))))\n",
    "    print((i+1)*(0.25*len(realdatausing)))\n",
    "    print(int((i+1)*(0.25*len(realdatausing))))\n",
    "    print()\n",
    "    locals()[\"filesub\"+str(i+1)] = realdatausing[int(i*(0.25*len(realdatausing))):int((i+1)*(0.25*len(realdatausing)))]\n"
   ]
  },
  {
   "cell_type": "code",
   "execution_count": null,
   "id": "6359293f",
   "metadata": {},
   "outputs": [],
   "source": [
    "filesub1"
   ]
  },
  {
   "cell_type": "code",
   "execution_count": null,
   "id": "17eb2208",
   "metadata": {},
   "outputs": [],
   "source": [
    "realdatausing = filesub1"
   ]
  },
  {
   "cell_type": "code",
   "execution_count": null,
   "id": "be5cac38",
   "metadata": {},
   "outputs": [],
   "source": [
    "DFnorm, signal = EEGanalysis.CreateDataframe(realdatausing)\n",
    "DFnormres, signalres2 = EEGanalysis.CreateDataframe(realdatausing)"
   ]
  },
  {
   "cell_type": "markdown",
   "id": "c4c6ad15",
   "metadata": {},
   "source": [
    "# Formatting the curve data to use in cross correlation to determine validity of potential signals"
   ]
  },
  {
   "cell_type": "code",
   "execution_count": null,
   "id": "5de3c334",
   "metadata": {},
   "outputs": [],
   "source": [
    "curvedata = EEGanalysis.getdata(curvedata)"
   ]
  },
  {
   "cell_type": "code",
   "execution_count": null,
   "id": "f915ff3e",
   "metadata": {},
   "outputs": [],
   "source": [
    "timecurve, signalcurve = EEGanalysis.timesignal(curvedata)"
   ]
  },
  {
   "cell_type": "code",
   "execution_count": null,
   "id": "f10b5dcd",
   "metadata": {},
   "outputs": [],
   "source": [
    "signalcurveave = EEGanalysis.movingaverage(signalcurve[:,1],10000)"
   ]
  },
  {
   "cell_type": "markdown",
   "id": "9182773b",
   "metadata": {},
   "source": [
    "# Predicting the locations of potential signals within the dataset"
   ]
  },
  {
   "cell_type": "code",
   "execution_count": null,
   "id": "420c18eb",
   "metadata": {
    "scrolled": true
   },
   "outputs": [],
   "source": [
    "StartVals, EndVals, signalCURVES = EEGanalysis.PredictSignal(DFnorm, signal,350000)"
   ]
  },
  {
   "cell_type": "markdown",
   "id": "fbef81a3",
   "metadata": {},
   "source": [
    "# Analysing the whole dataset before and potential signals have been removed"
   ]
  },
  {
   "cell_type": "code",
   "execution_count": null,
   "id": "657681cd",
   "metadata": {},
   "outputs": [],
   "source": [
    "MainSignalDFtestfull = EEGanalysis.AnalyseSignalFullData(signal)"
   ]
  },
  {
   "cell_type": "markdown",
   "id": "766c89fe",
   "metadata": {},
   "source": [
    "# Extracting potential individual signals, determining their validity and analysing them where necessary"
   ]
  },
  {
   "cell_type": "code",
   "execution_count": null,
   "id": "1e8f05d3",
   "metadata": {
    "scrolled": true
   },
   "outputs": [],
   "source": [
    "MainSignalDF, MainSignalDFraw, MainSignalDFccextracts,redsig = EEGanalysis.AnalyseSignalsFailsafeVer(StartVals,EndVals,signal,signalres2,signalCURVES,DFnorm,signalcurveave,250000)\n"
   ]
  },
  {
   "cell_type": "markdown",
   "id": "65bebefa",
   "metadata": {},
   "source": [
    "# Analysing the remaining data after valid signals have been removed"
   ]
  },
  {
   "cell_type": "code",
   "execution_count": null,
   "id": "828e884a",
   "metadata": {
    "scrolled": false
   },
   "outputs": [],
   "source": [
    "MainSignalDFtestfullthird = EEGanalysis.AnalyseSignalFullData(redsig)"
   ]
  },
  {
   "cell_type": "markdown",
   "id": "150c22d0",
   "metadata": {},
   "source": [
    "# Dataframe containing characteristics of full original data"
   ]
  },
  {
   "cell_type": "code",
   "execution_count": null,
   "id": "0af31777",
   "metadata": {},
   "outputs": [],
   "source": [
    "MainSignalDFtestfull"
   ]
  },
  {
   "cell_type": "markdown",
   "id": "192d4605",
   "metadata": {},
   "source": [
    "# Dataframe containing characteristics of initially extracted signals, not including any second tier extractions"
   ]
  },
  {
   "cell_type": "code",
   "execution_count": null,
   "id": "01814f29",
   "metadata": {},
   "outputs": [],
   "source": [
    "MainSignalDFraw"
   ]
  },
  {
   "cell_type": "markdown",
   "id": "e3e9cd95",
   "metadata": {},
   "source": [
    "# Dataframe containing characteristics of only second tier extractions\n",
    "\n",
    "### This is where a signal was within an initial extraction but the original signal contained more data then just the signal\n",
    "\n",
    "### The signal is extracted using cross correlation to trim out the 'excess' data from the original extraction"
   ]
  },
  {
   "cell_type": "code",
   "execution_count": null,
   "id": "6872009e",
   "metadata": {},
   "outputs": [],
   "source": [
    "MainSignalDFccextracts"
   ]
  },
  {
   "cell_type": "markdown",
   "id": "c8571ddb",
   "metadata": {},
   "source": [
    "# Dataframe containing the characteristics of the full data with signals removed"
   ]
  },
  {
   "cell_type": "code",
   "execution_count": null,
   "id": "4edfcc0a",
   "metadata": {},
   "outputs": [],
   "source": [
    "MainSignalDFtestfullthird"
   ]
  },
  {
   "cell_type": "markdown",
   "id": "b9ae3a6d",
   "metadata": {},
   "source": [
    "# Combining the dataframes containing original extracted signals and second tier extractions\n",
    "\n",
    "### Original extractions are labelled with .0 i.e. 5.0 or 8.0\n",
    "\n",
    "### Second tier extractions are labelled with .1 .2 .3 depending on how many second tier extractions there are within one original signal  i.e original signal 6 may have two signals within it and they would be labelled 6.1 and 6.2   original signal 9 may have one signal within it and would be labelled 9.1"
   ]
  },
  {
   "cell_type": "code",
   "execution_count": null,
   "id": "e0c4b6a3",
   "metadata": {},
   "outputs": [],
   "source": [
    "MainSignalDFtot = MainSignalDFraw.append(MainSignalDFccextracts, ignore_index=True)\n"
   ]
  },
  {
   "cell_type": "code",
   "execution_count": null,
   "id": "4de7c2e9",
   "metadata": {},
   "outputs": [],
   "source": [
    "MainSignalDFtot['SignalNumber'] = MainSignalDFtot['SignalNumber'].str.split('Signal').str.join('')\n",
    "\n",
    "MainSignalDFtot['SignalNumber'] = pd.to_numeric(MainSignalDFtot['SignalNumber'])\n",
    "\n",
    "MainSignalDFtot=MainSignalDFtot.sort_values('SignalNumber')\n"
   ]
  },
  {
   "cell_type": "code",
   "execution_count": null,
   "id": "d02c49e5",
   "metadata": {},
   "outputs": [],
   "source": [
    "MainSignalDF = MainSignalDF.rename(columns={\"Startsig\": \"Start Time (s)\", \"Endsig\": \"End Time (s)\"\n",
    "                                           , \"SignalLength\": \"Signal Length (s)\"\n",
    "                                           , \"NoPeaksBeforeGlobal\": \"Peaks Before Global Min\"\n",
    "                                           , \"NoPeaksAfterGlobal\": \"Peaks After Global Min\"\n",
    "                                           , \"NoDipsBeforeGlobal\": \"Dips Before Global Min\"\n",
    "                                           , \"NoDipsAfterGlobal\": \"Dips After Global Min\"\n",
    "                                           , \"DipDepth\": \"Global Min Depth\"\n",
    "                                           , \"Start\": \"Start Index\"\n",
    "                                           , \"End\": \"End Index\"})"
   ]
  },
  {
   "cell_type": "code",
   "execution_count": null,
   "id": "9c22c572",
   "metadata": {},
   "outputs": [],
   "source": [
    "MainSignalDF"
   ]
  },
  {
   "cell_type": "code",
   "execution_count": null,
   "id": "4407b218",
   "metadata": {},
   "outputs": [],
   "source": []
  },
  {
   "cell_type": "code",
   "execution_count": null,
   "id": "f90ca91c",
   "metadata": {},
   "outputs": [],
   "source": [
    "#MainSignalDF['SignalNumber'] = [1,2,3,4,5]\n",
    "#MainSignalDF"
   ]
  },
  {
   "cell_type": "code",
   "execution_count": null,
   "id": "145bad03",
   "metadata": {},
   "outputs": [],
   "source": [
    "#MainSignalDF.to_csv('Dataset7Output.csv', index = False)"
   ]
  },
  {
   "cell_type": "code",
   "execution_count": null,
   "id": "077990dc",
   "metadata": {},
   "outputs": [],
   "source": [
    "realdataV2 = EEGanalysis.getdata(datasetusing)\n",
    "realdataV2"
   ]
  },
  {
   "cell_type": "code",
   "execution_count": null,
   "id": "9d04dba6",
   "metadata": {},
   "outputs": [],
   "source": [
    "for i in range(4):\n",
    "    print(i*(0.25*len(realdataV2)))\n",
    "    print(int(i*(0.25*len(realdataV2))))\n",
    "    print((i+1)*(0.25*len(realdataV2)))\n",
    "    print(int((i+1)*(0.25*len(realdataV2))))\n",
    "    print()\n",
    "    locals()[\"filesubV2\"+str(i+1)] = realdataV2[int(i*(0.25*len(realdataV2))):int((i+1)*(0.25*len(realdataV2)))]\n"
   ]
  },
  {
   "cell_type": "code",
   "execution_count": null,
   "id": "c68ce4c0",
   "metadata": {},
   "outputs": [],
   "source": [
    "filesubV21"
   ]
  },
  {
   "cell_type": "code",
   "execution_count": null,
   "id": "8d23c0ee",
   "metadata": {},
   "outputs": [],
   "source": [
    "realdataV2 = filesubV21"
   ]
  },
  {
   "cell_type": "code",
   "execution_count": null,
   "id": "0f656055",
   "metadata": {},
   "outputs": [],
   "source": [
    "DFnorm3, signalres3 = EEGanalysis.CreateDataframe(realdataV2)"
   ]
  },
  {
   "cell_type": "code",
   "execution_count": null,
   "id": "5edf5671",
   "metadata": {},
   "outputs": [],
   "source": [
    "MainSignalDF = MainSignalDF.fillna(0)\n",
    "MainSignalDF"
   ]
  },
  {
   "cell_type": "code",
   "execution_count": null,
   "id": "ef35df9d",
   "metadata": {},
   "outputs": [],
   "source": [
    "MainSignalDF = MainSignalDF.sort_index()\n",
    "MainSignalDF"
   ]
  },
  {
   "cell_type": "code",
   "execution_count": null,
   "id": "5d40202d",
   "metadata": {},
   "outputs": [],
   "source": [
    "#MainSignalDF = MainSignalDF.drop([1])\n",
    "#MainSignalDF"
   ]
  },
  {
   "cell_type": "code",
   "execution_count": null,
   "id": "96eadc86",
   "metadata": {},
   "outputs": [],
   "source": [
    "MainSignalDFpred = MainSignalDF.sort_index()"
   ]
  },
  {
   "cell_type": "code",
   "execution_count": null,
   "id": "0914268e",
   "metadata": {},
   "outputs": [],
   "source": [
    "MainSignalDFpred = MainSignalDFpred.astype(float).round(0).astype(int)\n"
   ]
  },
  {
   "cell_type": "code",
   "execution_count": null,
   "id": "8fbbcf52",
   "metadata": {},
   "outputs": [],
   "source": [
    "MainSignalDFpred = MainSignalDFpred.drop('Start Time (s)', axis=1)\n",
    "MainSignalDFpred = MainSignalDFpred.drop('End Time (s)', axis=1)\n",
    "MainSignalDFpred = MainSignalDFpred.drop('Start Index', axis=1)\n",
    "MainSignalDFpred = MainSignalDFpred.drop('End Index', axis=1)\n",
    "MainSignalDFpred = MainSignalDFpred.drop('SignalNumber', axis=1)\n",
    "MainSignalDFpred"
   ]
  },
  {
   "cell_type": "code",
   "execution_count": null,
   "id": "6025bc04",
   "metadata": {},
   "outputs": [],
   "source": [
    "MLclassifier = pickle.load(open('PotentialSignalClassifier.sav', 'rb'))"
   ]
  },
  {
   "cell_type": "code",
   "execution_count": null,
   "id": "80caca0f",
   "metadata": {},
   "outputs": [],
   "source": [
    "MainSignalDFpredar = MainSignalDFpred.to_numpy()"
   ]
  },
  {
   "cell_type": "code",
   "execution_count": null,
   "id": "42669d8e",
   "metadata": {},
   "outputs": [],
   "source": [
    "prediction = MLclassifier.predict(MainSignalDFpredar)"
   ]
  },
  {
   "cell_type": "code",
   "execution_count": null,
   "id": "53db5630",
   "metadata": {},
   "outputs": [],
   "source": [
    "prediction"
   ]
  },
  {
   "cell_type": "code",
   "execution_count": null,
   "id": "8e110649",
   "metadata": {},
   "outputs": [],
   "source": []
  },
  {
   "cell_type": "code",
   "execution_count": null,
   "id": "49ea02aa",
   "metadata": {},
   "outputs": [],
   "source": [
    "print('All Curves Overlaid:')\n",
    "for a in range(len(MainSignalDF)):\n",
    "    plt.plot(signalres3[MainSignalDF['Start Time (s)'][a]*5000:MainSignalDF['End Time (s)'][a]*5000,1])"
   ]
  },
  {
   "cell_type": "code",
   "execution_count": null,
   "id": "eb734838",
   "metadata": {},
   "outputs": [],
   "source": [
    "print('All Curves Staggared:')\n",
    "for a in range(len(MainSignalDF)):\n",
    "    plt.plot(signalres3[MainSignalDF['Start Time (s)'][a]*5000:MainSignalDF['End Time (s)'][a]*5000,1]-2000*(a+1))"
   ]
  },
  {
   "cell_type": "code",
   "execution_count": null,
   "id": "2c934289",
   "metadata": {
    "scrolled": true
   },
   "outputs": [],
   "source": [
    "for a in range(len(MainSignalDF)):\n",
    "    print('Graph of Extracted Curve %s'%a)\n",
    "    print('Signal Length: %ss'%MainSignalDFpred['Signal Length (s)'][a])\n",
    "    print(prediction[a])\n",
    "    plt.plot(signalres3[MainSignalDF['Start Time (s)'][a]*5000:MainSignalDF['End Time (s)'][a]*5000,1])\n",
    "    plt.show()\n",
    "    print()\n",
    "    print()"
   ]
  },
  {
   "cell_type": "code",
   "execution_count": null,
   "id": "ac7e69b3",
   "metadata": {},
   "outputs": [],
   "source": []
  },
  {
   "cell_type": "code",
   "execution_count": null,
   "id": "6b9bbd3d",
   "metadata": {},
   "outputs": [],
   "source": []
  },
  {
   "cell_type": "code",
   "execution_count": null,
   "id": "682af08c",
   "metadata": {},
   "outputs": [],
   "source": []
  },
  {
   "cell_type": "code",
   "execution_count": null,
   "id": "a542ad35",
   "metadata": {},
   "outputs": [],
   "source": [
    "for a in range(len(MainSignalDF)):\n",
    "    print('Graph of Extracted Curve %s'%a)\n",
    "    print('Signal Length: %ss'%MainSignalDFpred['Signal Length (s)'][a])\n",
    "    print('Prediction:%s' %prediction[a])\n",
    "    plt.plot(signalres3[MainSignalDF['Start Time (s)'][a]*5000:MainSignalDF['End Time (s)'][a]*5000,1])\n",
    "    plt.show()\n",
    "    \n",
    "    def f(Signal):\n",
    "            1+1\n",
    "\n",
    "    #locals()[\"my_result\"+str(a)] = interactive(f, Signal=True)\n",
    "    locals()[\"my_result\"+str(a)] = widgets.RadioButtons(options=['Signal', 'Noise'],description='Signal or Noise:',disabled=False)\n",
    "\n",
    "    display(locals()[\"my_result\"+str(a)])\n",
    "    \n",
    "    locals()[\"UnuseableWhy\"+str(a)] = input(\"If Signal Unuseable, Why? (Leave Blank and Press Enter if Useable)\")\n",
    "    \n",
    "    \n",
    "    \n",
    "    input(\"Press Enter to Confirm\")\n",
    "    \n",
    "\n",
    "    print()\n",
    "    print()\n",
    "    clear_output()"
   ]
  },
  {
   "cell_type": "code",
   "execution_count": null,
   "id": "b9add40f",
   "metadata": {},
   "outputs": [],
   "source": [
    "for i in range(len(MainSignalDF)):\n",
    "    print(locals()[\"my_result\"+str(i)].value)"
   ]
  },
  {
   "cell_type": "code",
   "execution_count": null,
   "id": "3fd2e86c",
   "metadata": {},
   "outputs": [],
   "source": [
    "MainSignalDF['User Entry'] = np.nan\n",
    "MainSignalDF['Unuseable Reason'] = np.nan\n",
    "\n",
    "for i in range(len(MainSignalDF)):\n",
    "    MainSignalDF['User Entry'][i] = locals()[\"my_result\"+str(i)].value\n",
    "        \n",
    "for i in range(len(MainSignalDF)):\n",
    "        MainSignalDF['Unuseable Reason'][i] = locals()[\"UnuseableWhy\"+str(i)]"
   ]
  },
  {
   "cell_type": "code",
   "execution_count": null,
   "id": "e6ef4f40",
   "metadata": {},
   "outputs": [],
   "source": [
    "MainSignalDF"
   ]
  },
  {
   "cell_type": "code",
   "execution_count": null,
   "id": "a21357ec",
   "metadata": {},
   "outputs": [],
   "source": [
    "for a in range(len(MainSignalDF)):\n",
    "    if MainSignalDF['User Entry'][a] == 'Noise':\n",
    "        MainSignalDF = MainSignalDF.drop([a])\n",
    "        \n",
    "MainSignalDF = MainSignalDF.reset_index()"
   ]
  },
  {
   "cell_type": "code",
   "execution_count": null,
   "id": "ef7306f5",
   "metadata": {},
   "outputs": [],
   "source": [
    "MainSignalDF"
   ]
  },
  {
   "cell_type": "code",
   "execution_count": null,
   "id": "585dd1db",
   "metadata": {},
   "outputs": [],
   "source": [
    "globals()[iter] = 0"
   ]
  },
  {
   "cell_type": "code",
   "execution_count": null,
   "id": "b6cc8bdb",
   "metadata": {},
   "outputs": [],
   "source": [
    "DropdownOptions = []\n",
    "for i in range(len(MainSignalDF)):\n",
    "    DropdownOptions.append(('Signal %s'%str(i+1), i))"
   ]
  },
  {
   "cell_type": "markdown",
   "id": "649e6503",
   "metadata": {},
   "source": [
    "# Run the following cell two times, and interact with it the on the second run"
   ]
  },
  {
   "cell_type": "code",
   "execution_count": null,
   "id": "e1fce623",
   "metadata": {
    "scrolled": false
   },
   "outputs": [],
   "source": [
    "%matplotlib notebook\n",
    "from numpy import pi, sin\n",
    "import numpy as np\n",
    "import matplotlib.pyplot as plt\n",
    "from matplotlib.widgets import Slider, Button, RadioButtons\n",
    "\n",
    "\n",
    "SignalSelector = widgets.Dropdown(\n",
    "    options=DropdownOptions,\n",
    "    value=globals()[iter],\n",
    "    description='Signal:',\n",
    ")\n",
    "\n",
    "def reset_button_on_clicked(mouse_event):\n",
    "    start_slider.reset()\n",
    "    end_slider.reset()\n",
    "    \n",
    "def confirm_button_on_clicked(mouse_event):\n",
    "    ax.cla()\n",
    "    [line] = ax.plot(x, y, linewidth=0.5, color='black')\n",
    "    highlightplotstart = ax.axvline(((start_slider.val/200)*(np.max(x)-np.min(x))) + np.min(x), color='green', zorder=-1)\n",
    "    highlightplotend = ax.axvline(np.max(x) - ((end_slider.val/200)*(np.max(x)-np.min(x))), color='red', zorder=-1)\n",
    "    highlightzone = ax.axvspan(((start_slider.val/200)*(np.max(x)-np.min(x))) + np.min(x), np.max(x) - ((end_slider.val/200)*(np.max(x)-np.min(x))), color='green', alpha=0.25)\n",
    "    fig.canvas.draw_idle()\n",
    "    globals()[\"StartCrop\"+str(globals()[iter])] = start_slider.val\n",
    "    globals()[\"EndCrop\"+str(globals()[iter])] = end_slider.val\n",
    "    \n",
    "    \n",
    "def sliders_on_changedstart(val):\n",
    "    ax.cla()\n",
    "    [line] = ax.plot(x, y, linewidth=0.5, color='black')\n",
    "    highlightplotstart = ax.axvline(((start_slider.val/200)*(np.max(x)-np.min(x))) + np.min(x), color='green', zorder=-1)\n",
    "    highlightplotend = ax.axvline(np.max(x) - ((end_slider.val/200)*(np.max(x)-np.min(x))), color='red', zorder=-1)\n",
    "    fig.canvas.draw_idle()\n",
    "    \n",
    "def sliders_on_changedend(val):\n",
    "    ax.cla()\n",
    "    [line] = ax.plot(x, y, linewidth=0.5, color='black')\n",
    "    highlightplotstart = ax.axvline(((start_slider.val/200)*(np.max(x)-np.min(x))) + np.min(x), color='green', zorder=-1)\n",
    "    highlightplotend = ax.axvline(np.max(x) - ((end_slider.val/200)*(np.max(x)-np.min(x))), color='red', zorder=-1)\n",
    "    fig.canvas.draw_idle()\n",
    "    \n",
    "    \n",
    "x = signalres3[MainSignalDF['Start Time (s)'][globals()[iter]]*5000:MainSignalDF['End Time (s)'][globals()[iter]]*5000,0]\n",
    "\n",
    "y = signalres3[MainSignalDF['Start Time (s)'][globals()[iter]]*5000:MainSignalDF['End Time (s)'][globals()[iter]]*5000,1]\n",
    "    \n",
    "\n",
    "\n",
    "axis_color = 'lightgoldenrodyellow'\n",
    "\n",
    "fig = plt.figure(figsize=(10,5))\n",
    "ax = fig.add_subplot(111)\n",
    "\n",
    "fig.subplots_adjust(left=0.25, bottom=0.25)\n",
    "\n",
    "[line] = ax.plot(x, y, linewidth=0.5, color='black')\n",
    "\n",
    "\n",
    "\n",
    "start_slider_ax  = fig.add_axes([0.25, 0.15, 0.65, 0.03], facecolor=axis_color)\n",
    "start_slider = Slider(start_slider_ax, 'Start', 0, 100, valinit=0)\n",
    "\n",
    "end_slider_ax = fig.add_axes([0.25, 0.1, 0.65, 0.03], facecolor=axis_color)\n",
    "end_slider = Slider(end_slider_ax, 'End', 0, 100, valinit=0)\n",
    "\n",
    "#highlightplot = ax.axvspan(start_slider.val/2, 100 - end_slider.val/2, color='green', alpha=0.5)\n",
    "highlightplotstart = ax.axvline(np.min(x), color='green', zorder=-1)\n",
    "highlightplotend = ax.axvline(np.max(x), color='red', zorder=-1)\n",
    "    \n",
    "start_slider.on_changed(sliders_on_changedstart)\n",
    "end_slider.on_changed(sliders_on_changedend)\n",
    "\n",
    "reset_button_ax = fig.add_axes([0.8, 0.025, 0.1, 0.04])\n",
    "reset_button = Button(reset_button_ax, 'Reset', color='red', hovercolor='0.975')\n",
    "\n",
    "confirm_button_ax = fig.add_axes([0.25, 0.025, 0.1, 0.04])\n",
    "confirm_button = Button(confirm_button_ax, 'Confirm', color='green', hovercolor='0.975')\n",
    "    \n",
    "reset_button.on_clicked(reset_button_on_clicked)\n",
    "confirm_button.on_clicked(confirm_button_on_clicked)\n",
    "\n",
    "    \n",
    "plt.show()\n",
    "\n",
    "def on_change(change):\n",
    "    if change['type'] == 'change' and change['name'] == 'value':\n",
    "        print(\"changed to %s\" % change['new'])\n",
    "        globals()[iter] = change['new']\n",
    "        \n",
    "        %rerun\n",
    "       \n",
    "\n",
    "SignalSelector.observe(on_change)\n",
    "\n",
    "display(SignalSelector)"
   ]
  },
  {
   "cell_type": "code",
   "execution_count": null,
   "id": "b0834e9a",
   "metadata": {},
   "outputs": [],
   "source": [
    "SignalCropPercs = pd.DataFrame(columns = ['Signal', 'Start Perc', 'End Perc'])\n",
    "Signallist = []\n",
    "Startlist = []\n",
    "Endlist = []\n",
    "for i in range(len(MainSignalDF)):\n",
    "    Signallist.append('Signal %s'%str(i+1))\n",
    "    Startlist.append(globals()[\"StartCrop\"+str(i)])#SignalCropPercs['Start Perc'][i] = ['StartCrop%s'%i]\n",
    "    Endlist.append(globals()[\"EndCrop\"+str(i)])#SignalCropPercs['End Perc'][i] = ['EndCrop%s'%i]\n",
    "    \n",
    "SignalCropPercs['Signal'] = Signallist\n",
    "SignalCropPercs['Start Perc'] = Startlist\n",
    "SignalCropPercs['End Perc'] = Endlist\n",
    "\n",
    "SignalCropPercs"
   ]
  },
  {
   "cell_type": "code",
   "execution_count": null,
   "id": "e9286d3b",
   "metadata": {},
   "outputs": [],
   "source": [
    "MainSignalDF"
   ]
  },
  {
   "cell_type": "code",
   "execution_count": null,
   "id": "c5856ebb",
   "metadata": {},
   "outputs": [],
   "source": [
    "StartIndice = MainSignalDF['Start Time (s)']*5000\n",
    "EndIndice = MainSignalDF['End Time (s)']*5000\n",
    "SignalLengthIndice = EndIndice - StartIndice\n",
    "SignalMidpointIndice = SignalLengthIndice/2"
   ]
  },
  {
   "cell_type": "code",
   "execution_count": null,
   "id": "88c62e6f",
   "metadata": {},
   "outputs": [],
   "source": [
    "StartIndice"
   ]
  },
  {
   "cell_type": "code",
   "execution_count": null,
   "id": "d8eca85d",
   "metadata": {},
   "outputs": [],
   "source": [
    "EndIndice"
   ]
  },
  {
   "cell_type": "code",
   "execution_count": null,
   "id": "e08b67fa",
   "metadata": {},
   "outputs": [],
   "source": [
    "SignalLengthIndice/5000"
   ]
  },
  {
   "cell_type": "code",
   "execution_count": null,
   "id": "75e88166",
   "metadata": {},
   "outputs": [],
   "source": [
    "SignalMidpointIndice/5000"
   ]
  },
  {
   "cell_type": "code",
   "execution_count": null,
   "id": "8067d7b5",
   "metadata": {},
   "outputs": [],
   "source": [
    "CropStartIndice = StartIndice + (SignalCropPercs['Start Perc']/100)*SignalMidpointIndice\n",
    "#100% = midpoint\n",
    "#0% = startpoint"
   ]
  },
  {
   "cell_type": "code",
   "execution_count": null,
   "id": "76dd908b",
   "metadata": {},
   "outputs": [],
   "source": [
    "CropEndIndice = EndIndice - (SignalCropPercs['End Perc']/100)*SignalMidpointIndice"
   ]
  },
  {
   "cell_type": "code",
   "execution_count": null,
   "id": "095cd7e6",
   "metadata": {},
   "outputs": [],
   "source": [
    "CropStartIndice"
   ]
  },
  {
   "cell_type": "code",
   "execution_count": null,
   "id": "d8d23535",
   "metadata": {},
   "outputs": [],
   "source": [
    "CropEndIndice"
   ]
  },
  {
   "cell_type": "code",
   "execution_count": null,
   "id": "e0157ac1",
   "metadata": {},
   "outputs": [],
   "source": [
    "CropSignalTEST = pd.DataFrame(columns = ['Start', 'End'])\n",
    "CropSignalTEST['Start'] = CropStartIndice/5000\n",
    "CropSignalTEST['End'] = CropEndIndice/5000\n",
    "CropSignalTEST"
   ]
  },
  {
   "cell_type": "code",
   "execution_count": null,
   "id": "8d7cfadc",
   "metadata": {
    "scrolled": true
   },
   "outputs": [],
   "source": [
    "%matplotlib inline\n",
    "for a in range(len(CropSignalTEST)):\n",
    "    print('Graph of Extracted Curve %s'%a)\n",
    "    print('Signal Length: %ss'%(int(CropSignalTEST['End'][a])-int(CropSignalTEST['Start'][a])))\n",
    "    plt.rcParams['figure.figsize'] = [100, 50]\n",
    "    plt.plot(signalres3[int(CropSignalTEST['Start'][a]*5000):int(CropSignalTEST['End'][a]*5000),1])\n",
    "    plt.show()\n",
    "    print()\n",
    "    print()"
   ]
  },
  {
   "cell_type": "code",
   "execution_count": null,
   "id": "d68a419b",
   "metadata": {
    "scrolled": true
   },
   "outputs": [],
   "source": [
    "\n",
    "MainSignalDFTEST = EEGanalysis.AnalyseSignalsCROPPED(CropSignalTEST['Start']*5000,CropSignalTEST['End']*5000,signalres3)"
   ]
  },
  {
   "cell_type": "code",
   "execution_count": null,
   "id": "f4ac088e",
   "metadata": {},
   "outputs": [],
   "source": [
    "MainSignalDFTEST"
   ]
  },
  {
   "cell_type": "code",
   "execution_count": null,
   "id": "0fb828f6",
   "metadata": {},
   "outputs": [],
   "source": [
    "print('All Curves Overlaid:')\n",
    "for a in range(len(MainSignalDFTEST)):\n",
    "        \n",
    "    argmin = np.argmin(signalres3[MainSignalDFTEST['Startsig'][a]*5000:MainSignalDFTEST['Endsig'][a]*5000,1])\n",
    "    signalres3[MainSignalDFTEST['Startsig'][a]*5000:MainSignalDFTEST['Endsig'][a]*5000,0] = range(0,len(signalres3[MainSignalDFTEST['Startsig'][a]*5000:MainSignalDFTEST['Endsig'][a]*5000,0]))\n",
    "    signalres3[MainSignalDFTEST['Startsig'][a]*5000:MainSignalDFTEST['Endsig'][a]*5000,0] = signalres3[MainSignalDFTEST['Startsig'][a]*5000:MainSignalDFTEST['Endsig'][a]*5000,0] - argmin\n",
    "    \n",
    "    plt.plot(signalres3[MainSignalDFTEST['Startsig'][a]*5000:MainSignalDFTEST['Endsig'][a]*5000,0],signalres3[MainSignalDFTEST['Startsig'][a]*5000:MainSignalDFTEST['Endsig'][a]*5000,1])"
   ]
  },
  {
   "cell_type": "code",
   "execution_count": null,
   "id": "a7d5126c",
   "metadata": {},
   "outputs": [],
   "source": [
    "print('All Curves Staggared:')\n",
    "count = 0\n",
    "offset = 4000\n",
    "for a in range(len(MainSignalDFTEST)):\n",
    "    \n",
    "    argmin = np.argmin(signalres3[MainSignalDFTEST['Startsig'][a]*5000:MainSignalDFTEST['Endsig'][a]*5000,1])\n",
    "    signalres3[MainSignalDFTEST['Startsig'][a]*5000:MainSignalDFTEST['Endsig'][a]*5000,0] = range(0,len(signalres3[MainSignalDFTEST['Startsig'][a]*5000:MainSignalDFTEST['Endsig'][a]*5000,0]))\n",
    "    signalres3[MainSignalDFTEST['Startsig'][a]*5000:MainSignalDFTEST['Endsig'][a]*5000,0] = signalres3[MainSignalDFTEST['Startsig'][a]*5000:MainSignalDFTEST['Endsig'][a]*5000,0] - argmin\n",
    "    \n",
    "    plt.plot(signalres3[MainSignalDFTEST['Startsig'][a]*5000:MainSignalDFTEST['Endsig'][a]*5000,0],signalres3[MainSignalDFTEST['Startsig'][a]*5000:MainSignalDFTEST['Endsig'][a]*5000,1]-offset*(count+1))\n",
    "    count = count+1"
   ]
  },
  {
   "cell_type": "code",
   "execution_count": null,
   "id": "8bb5a494",
   "metadata": {},
   "outputs": [],
   "source": [
    "drugStart = [0,5000]\n",
    "drugEnd = [5000,7500]\n",
    "\n",
    "drugsNumber = input(\"Number of Drugs Used? \")\n",
    "drugName = list()\n",
    "drugColour = list()\n",
    "for i in range(int(drugsNumber)):\n",
    "    locals()[\"Drug\"+str(i)] = input(\"Name of Drug Number %s: \" %str(i+1))\n",
    "    locals()[\"DrugColour\"+str(i)] = input(\"Colour of Drug Number %s: \" %str(i+1))\n",
    "    drugName.append(locals()[\"Drug\"+str(i)])\n",
    "    drugColour.append(locals()[\"DrugColour\"+str(i)])\n",
    "    \n",
    "print(drugName) \n",
    "print(drugColour)"
   ]
  },
  {
   "cell_type": "code",
   "execution_count": null,
   "id": "16ff50b3",
   "metadata": {},
   "outputs": [],
   "source": [
    "#go through each row of MainSignalDFTEST\n",
    "\n",
    "#if start time of signal is "
   ]
  },
  {
   "cell_type": "code",
   "execution_count": null,
   "id": "7b4b1c06",
   "metadata": {},
   "outputs": [],
   "source": [
    "MainSignalDFTEST['Startsig'][0]"
   ]
  },
  {
   "cell_type": "code",
   "execution_count": null,
   "id": "6d03b1c5",
   "metadata": {},
   "outputs": [],
   "source": [
    "drugUsed = [None]*len(MainSignalDFTEST)\n",
    "for i in range(len(MainSignalDFTEST)):    \n",
    "    for x in range(len(drugStart)):\n",
    "        if MainSignalDFTEST['Startsig'][i] - drugEnd[x] < 0:\n",
    "            drugUsed[i] = drugName[x]\n",
    "            break\n",
    "            \n",
    "MainSignalDFTEST['Drug'] = drugUsed"
   ]
  },
  {
   "cell_type": "code",
   "execution_count": null,
   "id": "c29be6cf",
   "metadata": {},
   "outputs": [],
   "source": [
    "MainSignalDFTEST"
   ]
  },
  {
   "cell_type": "code",
   "execution_count": null,
   "id": "cfc71bad",
   "metadata": {},
   "outputs": [],
   "source": [
    "testtest = MainSignalDFTEST.loc[(MainSignalDFTEST['Drug'] == 'B')]\n",
    "testtest = testtest.reset_index()\n",
    "testtest"
   ]
  },
  {
   "cell_type": "code",
   "execution_count": null,
   "id": "10016913",
   "metadata": {
    "scrolled": true
   },
   "outputs": [],
   "source": [
    "for i in range(len(drugName)):\n",
    "\n",
    "    MainSignalDrugUsing = MainSignalDFTEST.loc[(MainSignalDFTEST['Drug'] == drugName[i])]\n",
    "    MainSignalDrugUsing = MainSignalDrugUsing.reset_index()\n",
    "    print('All %s Curves Overlaid:'%drugName[i])\n",
    "    for a in range(len(MainSignalDrugUsing)):\n",
    "        \n",
    "        argmin = np.argmin(signalres3[MainSignalDrugUsing['Startsig'][a]*5000:MainSignalDrugUsing['Endsig'][a]*5000,1])\n",
    "        signalres3[MainSignalDrugUsing['Startsig'][a]*5000:MainSignalDrugUsing['Endsig'][a]*5000,0] = range(0,len(signalres3[MainSignalDrugUsing['Startsig'][a]*5000:MainSignalDrugUsing['Endsig'][a]*5000,0]))\n",
    "        signalres3[MainSignalDrugUsing['Startsig'][a]*5000:MainSignalDrugUsing['Endsig'][a]*5000,0] = signalres3[MainSignalDrugUsing['Startsig'][a]*5000:MainSignalDrugUsing['Endsig'][a]*5000,0] - argmin\n",
    "    \n",
    "        plt.plot(signalres3[MainSignalDrugUsing['Startsig'][a]*5000:MainSignalDrugUsing['Endsig'][a]*5000,0],signalres3[MainSignalDrugUsing['Startsig'][a]*5000:MainSignalDrugUsing['Endsig'][a]*5000,1])\n",
    "    plt.show()\n",
    "    \n",
    "    \n",
    "    \n",
    "    print('All %s Curves Staggared:'%drugName[i])\n",
    "    count = 0\n",
    "    offset = 4000\n",
    "    for a in range(len(MainSignalDrugUsing)):\n",
    "    \n",
    "        argmin = np.argmin(signalres3[MainSignalDrugUsing['Startsig'][a]*5000:MainSignalDrugUsing['Endsig'][a]*5000,1])\n",
    "        signalres3[MainSignalDrugUsing['Startsig'][a]*5000:MainSignalDrugUsing['Endsig'][a]*5000,0] = range(0,len(signalres3[MainSignalDrugUsing['Startsig'][a]*5000:MainSignalDrugUsing['Endsig'][a]*5000,0]))\n",
    "        signalres3[MainSignalDrugUsing['Startsig'][a]*5000:MainSignalDrugUsing['Endsig'][a]*5000,0] = signalres3[MainSignalDrugUsing['Startsig'][a]*5000:MainSignalDrugUsing['Endsig'][a]*5000,0] - argmin\n",
    "    \n",
    "        plt.plot(signalres3[MainSignalDrugUsing['Startsig'][a]*5000:MainSignalDrugUsing['Endsig'][a]*5000,0],signalres3[MainSignalDrugUsing['Startsig'][a]*5000:MainSignalDrugUsing['Endsig'][a]*5000,1]-offset*(count+1))\n",
    "        count = count+1\n",
    "    plt.show()\n",
    "       \n",
    "        \n",
    "        \n",
    "        \n",
    "        \n",
    "        \n",
    "        "
   ]
  },
  {
   "cell_type": "code",
   "execution_count": null,
   "id": "7f2e40ce",
   "metadata": {},
   "outputs": [],
   "source": [
    "import matplotlib.patches as mpatches\n",
    "count = 0\n",
    "for i in range(len(drugName)):\n",
    "\n",
    "    MainSignalDrugUsing = MainSignalDFTEST.loc[(MainSignalDFTEST['Drug'] == drugName[i])]\n",
    "    MainSignalDrugUsing = MainSignalDrugUsing.reset_index()\n",
    "    print('All %s Curves Staggared:'%drugName[i])\n",
    "    #count = 0\n",
    "    offset = 4000\n",
    "    drugoffset = 8000*int(i)\n",
    "    for a in range(len(MainSignalDrugUsing)):\n",
    "        \n",
    "        argmin = np.argmin(signalres3[MainSignalDrugUsing['Startsig'][a]*5000:MainSignalDrugUsing['Endsig'][a]*5000,1])\n",
    "        signalres3[MainSignalDrugUsing['Startsig'][a]*5000:MainSignalDrugUsing['Endsig'][a]*5000,0] = range(0,len(signalres3[MainSignalDrugUsing['Startsig'][a]*5000:MainSignalDrugUsing['Endsig'][a]*5000,0]))\n",
    "        signalres3[MainSignalDrugUsing['Startsig'][a]*5000:MainSignalDrugUsing['Endsig'][a]*5000,0] = signalres3[MainSignalDrugUsing['Startsig'][a]*5000:MainSignalDrugUsing['Endsig'][a]*5000,0] - argmin\n",
    "    \n",
    "        plt.plot(signalres3[MainSignalDrugUsing['Startsig'][a]*5000:MainSignalDrugUsing['Endsig'][a]*5000,0],signalres3[MainSignalDrugUsing['Startsig'][a]*5000:MainSignalDrugUsing['Endsig'][a]*5000,1]-offset*(count+1)-drugoffset,c=drugColour[i], label=drugName[i])\n",
    "        count = count+1\n",
    "        \n",
    "#plt.legend(fontsize=75)\n",
    "leg = plt.legend(drugName, labelcolor=drugColour, fontsize=100, handlelength=0, handletextpad=0)\n",
    "for item in leg.legendHandles:\n",
    "    item.set_visible(False)\n",
    "#plt.legend(handles=[mpatches.Patch(color=drugColour[0], label=drugName[0]),mpatches.Patch(color=drugColour[1], label=drugName[1]),mpatches.Patch(color=drugColour[2], label=drugName[2])], fontsize=75)\n",
    "plt.show()"
   ]
  },
  {
   "cell_type": "code",
   "execution_count": null,
   "id": "e181cac7",
   "metadata": {},
   "outputs": [],
   "source": [
    "Drug0"
   ]
  },
  {
   "cell_type": "markdown",
   "id": "39335c62",
   "metadata": {},
   "source": [
    "# GOT UP TO HERE"
   ]
  },
  {
   "cell_type": "code",
   "execution_count": null,
   "id": "215157ac",
   "metadata": {},
   "outputs": [],
   "source": []
  }
 ],
 "metadata": {
  "kernelspec": {
   "display_name": "Python 3 (ipykernel)",
   "language": "python",
   "name": "python3"
  },
  "language_info": {
   "codemirror_mode": {
    "name": "ipython",
    "version": 3
   },
   "file_extension": ".py",
   "mimetype": "text/x-python",
   "name": "python",
   "nbconvert_exporter": "python",
   "pygments_lexer": "ipython3",
   "version": "3.9.7"
  }
 },
 "nbformat": 4,
 "nbformat_minor": 5
}
