{
 "cells": [
  {
   "cell_type": "markdown",
   "id": "710ca43f",
   "metadata": {},
   "source": [
    "# Notebook for analysing data to find potential signals within\n",
    "# \n",
    "\n",
    "### How does this script work?\n",
    "First saved data in .txt form is loaded in and the dataset is extracted. The dataset is then ran through a pipeline looking for potential signals within the data and finally Dataframes are created with the characteristics of the full dataset and any signals within\n",
    "# \n",
    "### How does the pipeline work?\n",
    "The data is first analysed my a machine learning model. This model is un-supervised and is looking for regions in the data where there is high volatility, indicating a potential region of interest where a signal may be.\n",
    "\n",
    "The predictions made by the model are then looked at and any regions of interest are saved and looked into with more detail. This invloves using a cross correlation function to determine if the signal has the characteristic curve, if the extracted signal is extremely long then the cross correlation function is used to see if there is a signal within the region of interest. If the cross correlation functions show a signal is present then they are analysed looking at the length, number of peaks and height of the peaks as well as the depth of the dip. If the cross correlation function shows no signal is present then the region of interest is discarded."
   ]
  },
  {
   "cell_type": "code",
   "execution_count": null,
   "id": "ce88ef52",
   "metadata": {},
   "outputs": [],
   "source": [
    "import MLDetectionFunctionsPythonV6 as EEGanalysis\n",
    "import pandas as pd"
   ]
  },
  {
   "cell_type": "markdown",
   "id": "69f61a0b",
   "metadata": {},
   "source": [
    "# Importing data to analyse\n",
    "\n",
    "### Each dataset should be saved as a .txt file"
   ]
  },
  {
   "cell_type": "code",
   "execution_count": null,
   "id": "a74ed273",
   "metadata": {},
   "outputs": [],
   "source": [
    "realdatafile1 = 'Long_Data_1.txt'\n",
    "realdatafile2 = 'Long_Data_2.txt'\n",
    "realdatafile3 = 'Long_Data_3.txt'\n",
    "realdatafile4 = 'Long_Data_4.txt'\n",
    "\n",
    "realdatafile5 = 'Short_Data_1.txt'\n",
    "\n",
    "realdatafile6 = '22.07.22_Example_Data_Long.txt'\n",
    "realdatafile7 = '22.07.22_Example_Data_Long2.txt'\n",
    "\n",
    "curvedata = 'SpikeWaveDischarge.txt'"
   ]
  },
  {
   "cell_type": "markdown",
   "id": "a4fe4d87",
   "metadata": {},
   "source": [
    "# Choosing which dataset to analyse"
   ]
  },
  {
   "cell_type": "code",
   "execution_count": null,
   "id": "04aaf642",
   "metadata": {},
   "outputs": [],
   "source": [
    "#realdata1 = EEGanalysis.getdata(realdatafile1)"
   ]
  },
  {
   "cell_type": "code",
   "execution_count": null,
   "id": "c1deb1f7",
   "metadata": {},
   "outputs": [],
   "source": [
    "#realdata2 = EEGanalysis.getdata(realdatafile2)"
   ]
  },
  {
   "cell_type": "code",
   "execution_count": null,
   "id": "410454c9",
   "metadata": {},
   "outputs": [],
   "source": [
    "#realdata3 = EEGanalysis.getdata(realdatafile3)"
   ]
  },
  {
   "cell_type": "code",
   "execution_count": null,
   "id": "c37159eb",
   "metadata": {},
   "outputs": [],
   "source": [
    "#realdata4 = EEGanalysis.getdata(realdatafile4)"
   ]
  },
  {
   "cell_type": "code",
   "execution_count": null,
   "id": "98479c55",
   "metadata": {},
   "outputs": [],
   "source": [
    "#realdata5 = EEGanalysis.getdata(realdatafile5)"
   ]
  },
  {
   "cell_type": "code",
   "execution_count": null,
   "id": "eff3dc29",
   "metadata": {},
   "outputs": [],
   "source": [
    "realdata6 = EEGanalysis.getdata(realdatafile6)"
   ]
  },
  {
   "cell_type": "code",
   "execution_count": null,
   "id": "e11aa5c4",
   "metadata": {},
   "outputs": [],
   "source": [
    "#realdata7 = EEGanalysis.getdata(realdatafile7)"
   ]
  },
  {
   "cell_type": "code",
   "execution_count": null,
   "id": "e16fb8e0",
   "metadata": {},
   "outputs": [],
   "source": [
    "DFnorm, signal = EEGanalysis.CreateDataframe(realdata6)"
   ]
  },
  {
   "cell_type": "markdown",
   "id": "1bd207a4",
   "metadata": {},
   "source": [
    "# Formatting the curve data to use in cross correlation to determine validity of potential signals"
   ]
  },
  {
   "cell_type": "code",
   "execution_count": null,
   "id": "34c8a9a4",
   "metadata": {},
   "outputs": [],
   "source": [
    "curvedata = EEGanalysis.getdata(curvedata)"
   ]
  },
  {
   "cell_type": "code",
   "execution_count": null,
   "id": "d60c35cb",
   "metadata": {},
   "outputs": [],
   "source": [
    "timecurve, signalcurve = EEGanalysis.timesignal(curvedata)"
   ]
  },
  {
   "cell_type": "code",
   "execution_count": null,
   "id": "b2ddf3b2",
   "metadata": {},
   "outputs": [],
   "source": [
    "signalcurveave = EEGanalysis.movingaverage(signalcurve[:,1],10000)"
   ]
  },
  {
   "cell_type": "markdown",
   "id": "23ad3093",
   "metadata": {},
   "source": [
    "# Predicting the locations of potential signals within the dataset"
   ]
  },
  {
   "cell_type": "code",
   "execution_count": null,
   "id": "115f70ec",
   "metadata": {},
   "outputs": [],
   "source": [
    "StartVals, EndVals, signalCURVES = EEGanalysis.PredictSignal(DFnorm, signal,350000)"
   ]
  },
  {
   "cell_type": "markdown",
   "id": "91e47918",
   "metadata": {},
   "source": [
    "# Analysing the whole dataset before and potential signals have been removed"
   ]
  },
  {
   "cell_type": "code",
   "execution_count": null,
   "id": "39a38de9",
   "metadata": {},
   "outputs": [],
   "source": [
    "MainSignalDFtestfull = EEGanalysis.AnalyseSignalFullData(signal)"
   ]
  },
  {
   "cell_type": "markdown",
   "id": "11c72d0b",
   "metadata": {},
   "source": [
    "# Extracting potential individual signals, determining their validity and analysing them where necessary"
   ]
  },
  {
   "cell_type": "code",
   "execution_count": null,
   "id": "7f177b6c",
   "metadata": {},
   "outputs": [],
   "source": [
    "MainSignalDFraw, MainSignalDFccextracts,redsig = EEGanalysis.AnalyseSignalsFailsafeVer(StartVals,EndVals,signal,signalCURVES,DFnorm,signalcurveave,300000)\n"
   ]
  },
  {
   "cell_type": "markdown",
   "id": "076d1f08",
   "metadata": {},
   "source": [
    "# Analysing the remaining data after valid signals have been removed"
   ]
  },
  {
   "cell_type": "code",
   "execution_count": null,
   "id": "aa204115",
   "metadata": {},
   "outputs": [],
   "source": [
    "MainSignalDFtestfullthird = EEGanalysis.AnalyseSignalFullData(redsig)"
   ]
  },
  {
   "cell_type": "markdown",
   "id": "4bf5b12b",
   "metadata": {},
   "source": [
    "# Dataframe containing characteristics of full original data"
   ]
  },
  {
   "cell_type": "code",
   "execution_count": null,
   "id": "8f03f5e9",
   "metadata": {},
   "outputs": [],
   "source": [
    "MainSignalDFtestfull"
   ]
  },
  {
   "cell_type": "markdown",
   "id": "13747ace",
   "metadata": {},
   "source": [
    "# Dataframe containing characteristics of initially extracted signals, not including any second tier extractions"
   ]
  },
  {
   "cell_type": "code",
   "execution_count": null,
   "id": "f987b724",
   "metadata": {},
   "outputs": [],
   "source": [
    "MainSignalDFraw"
   ]
  },
  {
   "cell_type": "markdown",
   "id": "0b2f079b",
   "metadata": {},
   "source": [
    "# Dataframe containing characteristics of only second tier extractions\n",
    "\n",
    "### This is where a signal was within an initial extraction but the original signal contained more data then just the signal\n",
    "\n",
    "### The signal is extracted using cross correlation to trim out the 'excess' data from the original extraction"
   ]
  },
  {
   "cell_type": "code",
   "execution_count": null,
   "id": "13738ca3",
   "metadata": {},
   "outputs": [],
   "source": [
    "MainSignalDFccextracts"
   ]
  },
  {
   "cell_type": "markdown",
   "id": "a3640b6f",
   "metadata": {},
   "source": [
    "# Dataframe containing the characteristics of the full data with signals removed"
   ]
  },
  {
   "cell_type": "code",
   "execution_count": null,
   "id": "2e0f22eb",
   "metadata": {},
   "outputs": [],
   "source": [
    "MainSignalDFtestfullthird"
   ]
  },
  {
   "cell_type": "markdown",
   "id": "25613008",
   "metadata": {},
   "source": [
    "# Combining the dataframes containing original extracted signals and second tier extractions\n",
    "\n",
    "### Original extractions are labelled with .0 i.e. 5.0 or 8.0\n",
    "\n",
    "### Second tier extractions are labelled with .1 .2 .3 depending on how many second tier extractions there are within one original signal  i.e original signal 6 may have two signals within it and they would be labelled 6.1 and 6.2   original signal 9 may have one signal within it and would be labelled 9.1"
   ]
  },
  {
   "cell_type": "code",
   "execution_count": null,
   "id": "20828f43",
   "metadata": {},
   "outputs": [],
   "source": [
    "MainSignalDFtot = MainSignalDFraw.append(MainSignalDFccextracts, ignore_index=True)\n",
    "MainSignalDFtot"
   ]
  },
  {
   "cell_type": "code",
   "execution_count": null,
   "id": "0c040727",
   "metadata": {},
   "outputs": [],
   "source": [
    "MainSignalDFtot['SignalNumber'] = MainSignalDFtot['SignalNumber'].str.split('Signal').str.join('')\n",
    "\n",
    "MainSignalDFtot['SignalNumber'] = pd.to_numeric(MainSignalDFtot['SignalNumber'])\n",
    "\n",
    "MainSignalDFtot=MainSignalDFtot.sort_values('SignalNumber')\n",
    "MainSignalDFtot"
   ]
  },
  {
   "cell_type": "code",
   "execution_count": null,
   "id": "d529c584",
   "metadata": {},
   "outputs": [],
   "source": []
  }
 ],
 "metadata": {
  "kernelspec": {
   "display_name": "Python 3 (ipykernel)",
   "language": "python",
   "name": "python3"
  },
  "language_info": {
   "codemirror_mode": {
    "name": "ipython",
    "version": 3
   },
   "file_extension": ".py",
   "mimetype": "text/x-python",
   "name": "python",
   "nbconvert_exporter": "python",
   "pygments_lexer": "ipython3",
   "version": "3.9.7"
  }
 },
 "nbformat": 4,
 "nbformat_minor": 5
}
